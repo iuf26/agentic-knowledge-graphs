{
 "cells": [
  {
   "cell_type": "markdown",
   "id": "c209a695",
   "metadata": {},
   "source": [
    "# Lesson 3 - Introduction to Google's ADK - Part II"
   ]
  },
  {
   "cell_type": "code",
   "execution_count": 94,
   "id": "620d461f",
   "metadata": {},
   "outputs": [
    {
     "name": "stdout",
     "output_type": "stream",
     "text": [
      "Libraries imported.\n"
     ]
    }
   ],
   "source": [
    "from dotenv import load_dotenv\n",
    "load_dotenv()\n",
    "# Import necessary libraries\n",
    "import os\n",
    "from google.adk.agents import Agent\n",
    "from google.adk.models.lite_llm import LiteLlm # For OpenAI support\n",
    "from google.adk.sessions import InMemorySessionService\n",
    "from google.adk.runners import Runner\n",
    "from google.genai import types # For creating message Content/Parts\n",
    "from typing import Optional, Dict, Any\n",
    "\n",
    "# Convenience libraries for working with Neo4j inside of Google ADK\n",
    "from neo4j_for_adk import graphdb\n",
    "\n",
    "import warnings\n",
    "# Ignore all warnings\n",
    "warnings.filterwarnings(\"ignore\")\n",
    "\n",
    "import logging\n",
    "logging.basicConfig(level=logging.CRITICAL)\n",
    "\n",
    "print(\"Libraries imported.\")"
   ]
  },
  {
   "cell_type": "code",
   "execution_count": 95,
   "id": "d298255e",
   "metadata": {},
   "outputs": [
    {
     "name": "stdout",
     "output_type": "stream",
     "text": [
      "ModelResponse(id='chatcmpl-CAC6TCPwgRLJ2j329iIUpn69GGqXt', created=1756545841, model='gpt-4o-2024-08-06', object='chat.completion', system_fingerprint='fp_80956533cb', choices=[Choices(finish_reason='stop', index=0, message=Message(content=\"Yes, I'm ready! How can I assist you today?\", role='assistant', tool_calls=None, function_call=None, provider_specific_fields={'refusal': None}, annotations=[]), provider_specific_fields={})], usage=Usage(completion_tokens=13, prompt_tokens=27, total_tokens=40, completion_tokens_details=CompletionTokensDetailsWrapper(accepted_prediction_tokens=0, audio_tokens=0, reasoning_tokens=0, rejected_prediction_tokens=0, text_tokens=None), prompt_tokens_details=PromptTokensDetailsWrapper(audio_tokens=0, cached_tokens=0, text_tokens=None, image_tokens=None)), service_tier='default')\n",
      "\n",
      "OpenAI is ready for use.\n"
     ]
    }
   ],
   "source": [
    "# --- Define Model Constants for easier use ---\n",
    "MODEL_GPT = \"openai/gpt-4o\"\n",
    "\n",
    "llm = LiteLlm(model=MODEL_GPT)\n",
    "\n",
    "# Test LLM with a direct call\n",
    "print(llm.llm_client.completion(model=llm.model, \n",
    "                                messages=[{\"role\": \"user\", \"content\": \"Are you ready?\"}], \n",
    "                                tools=[]))\n",
    "\n",
    "print(\"\\nOpenAI is ready for use.\")"
   ]
  },
  {
   "cell_type": "code",
   "execution_count": 96,
   "id": "9d4f1aed",
   "metadata": {},
   "outputs": [],
   "source": [
    "from helper import make_agent_caller"
   ]
  },
  {
   "cell_type": "markdown",
   "id": "c91a5781",
   "metadata": {},
   "source": [
    "## 3.3. A Simple Multi-Agent Team - Delegation for Greetings & Farewells"
   ]
  },
  {
   "cell_type": "markdown",
   "id": "5ebdea6c",
   "metadata": {},
   "source": [
    "### 3.3.1 Define tools for sub-agents"
   ]
  },
  {
   "cell_type": "code",
   "execution_count": 97,
   "id": "90d6fc7b",
   "metadata": {},
   "outputs": [],
   "source": [
    "# Define the hello tool \n",
    "def say_hello(person_name: str) -> dict:\n",
    "    \"\"\"Formats a welcome message to a named person. \n",
    "\n",
    "    Args:\n",
    "        person_name (str): the name of the person saying hello\n",
    "\n",
    "    Returns:\n",
    "        dict: A dictionary containing the results of the query.\n",
    "              Includes a 'status' key ('success' or 'error').\n",
    "              If 'success', includes a 'query_result' key with an array of result rows.\n",
    "              If 'error', includes an 'error_message' key.\n",
    "    \"\"\"\n",
    "    return graphdb.send_query(\"RETURN 'Hello to you, ' + $person_name AS reply\",\n",
    "    {\n",
    "        \"person_name\": person_name\n",
    "    })"
   ]
  },
  {
   "cell_type": "code",
   "execution_count": 98,
   "id": "187ace8b",
   "metadata": {},
   "outputs": [],
   "source": [
    "# Define the new goodbye tool\n",
    "def say_goodbye(person_name: str) -> dict:\n",
    "    \"\"\"Provides a simple farewell message to conclude the conversation.\n",
    "    Args:\n",
    "        person_name (str): the name of the person saying goodbye\n",
    "    Returns:\n",
    "        dict: A dictionary containing the results of the query.\n",
    "    \n",
    "    \"\"\"\n",
    "    return graphdb.send_query(\"RETURN 'Goodbye from Cypher!' as farewell\")\n"
   ]
  },
  {
   "cell_type": "markdown",
   "id": "71a1d182",
   "metadata": {},
   "source": [
    "### 3.3.2. Define the Sub-Agents (Greeting & Farewell)"
   ]
  },
  {
   "cell_type": "code",
   "execution_count": 99,
   "id": "95ec2dc5",
   "metadata": {},
   "outputs": [
    {
     "name": "stdout",
     "output_type": "stream",
     "text": [
      "✅ Agent 'greeting_subagent_v1' created.\n"
     ]
    }
   ],
   "source": [
    "#description - describes what does this agent do and let other agents know why would they use this agent\n",
    "# --- Greeting Agent ---\n",
    "greeting_subagent = Agent(\n",
    "    model=llm,\n",
    "    name=\"greeting_subagent_v1\",\n",
    "    instruction=\"You are the Greeting Agent. Your ONLY task is to provide a friendly greeting to the user. \"\n",
    "                \"Use the 'say_hello' tool to generate the greeting. \"\n",
    "                \"If the user provides their name, make sure to pass it to the tool. \"\n",
    "                \"Do not engage in any other conversation or tasks.\",\n",
    "    description=\"Handles simple greetings and hellos using the 'say_hello' tool.\", # Crucial for delegation\n",
    "    tools=[say_hello],\n",
    ")\n",
    "print(f\"✅ Agent '{greeting_subagent.name}' created.\")"
   ]
  },
  {
   "cell_type": "code",
   "execution_count": 100,
   "id": "2b7f14ed",
   "metadata": {},
   "outputs": [
    {
     "name": "stdout",
     "output_type": "stream",
     "text": [
      "✅ Agent 'farewell_subagent_v1' created.\n"
     ]
    }
   ],
   "source": [
    "# --- Farewell Agent ---\n",
    "farewell_subagent = Agent(\n",
    "    # Can use the same or a different model\n",
    "    model=llm, # Sticking with GPT for this example\n",
    "    name=\"farewell_subagent_v1\",\n",
    "    instruction=\"You are the Farewell Agent. Your ONLY task is to provide a polite goodbye message. \"\n",
    "                \"Use the 'say_goodbye' tool when the user indicates they are leaving or ending the conversation \"\n",
    "                \"(e.g., using words like 'bye', 'goodbye', 'thanks bye', 'see you'). \"\n",
    "                \"Do not perform any other actions.\",\n",
    "    description=\"Handles simple farewells and goodbyes using the 'say_goodbye' tool.\", # Crucial for delegation\n",
    "    tools=[say_goodbye],\n",
    ")\n",
    "print(f\"✅ Agent '{farewell_subagent.name}' created.\")"
   ]
  },
  {
   "cell_type": "code",
   "execution_count": 101,
   "id": "d246892a",
   "metadata": {},
   "outputs": [
    {
     "name": "stdout",
     "output_type": "stream",
     "text": [
      "✅ Root Agent 'friendly_agent_team_v1' created with sub-agents: ['greeting_subagent_v1', 'farewell_subagent_v1']\n"
     ]
    }
   ],
   "source": [
    "root_agent = Agent(\n",
    "    name=\"friendly_agent_team_v1\", # Give it a new version name\n",
    "    model=llm,\n",
    "    description=\"The main coordinator agent. Delegates greetings/farewells to specialists.\",\n",
    "    instruction=\"\"\"You are the main Agent coordinating a team. Your primary responsibility is to be friendly.\n",
    " \n",
    "                You have specialized sub-agents: \n",
    "                1. 'greeting_agent': Handles simple greetings like 'Hi', 'Hello'. Delegate to it for these. \n",
    "                2. 'farewell_agent': Handles simple farewells like 'Bye', 'See you'. Delegate to it for these. \n",
    "\n",
    "                Analyze the user's query. If it's a greeting, delegate to 'greeting_agent'. \n",
    "                If it's a farewell, delegate to 'farewell_agent'. \n",
    "                \n",
    "                For anything else, respond appropriately or state you cannot handle it.\n",
    "                \"\"\",\n",
    "    tools=[], # No tools for the root agent\n",
    "    # Key change: Link the sub-agents here!\n",
    "    sub_agents=[greeting_subagent, farewell_subagent]\n",
    ")\n",
    "\n",
    "\n",
    "print(f\"✅ Root Agent '{root_agent.name}' created with sub-agents: {[sa.name for sa in root_agent.sub_agents]}\")\n"
   ]
  },
  {
   "cell_type": "code",
   "execution_count": 102,
   "id": "4dc8e410",
   "metadata": {},
   "outputs": [
    {
     "name": "stdout",
     "output_type": "stream",
     "text": [
      "\n",
      ">>> User Query: Hello I'm ABK\n",
      "  [Event] Author: friendly_agent_team_v1, Type: Event, Final: False, Content: parts=[Part(\n",
      "  function_call=FunctionCall(\n",
      "    args={\n",
      "      'agent_name': 'greeting_subagent_v1'\n",
      "    },\n",
      "    id='call_hvZZgbW3huBAoc7pkjH8RNVK',\n",
      "    name='transfer_to_agent'\n",
      "  )\n",
      ")] role='model'\n",
      "  [Event] Author: friendly_agent_team_v1, Type: Event, Final: False, Content: parts=[Part(\n",
      "  function_response=FunctionResponse(\n",
      "    id='call_hvZZgbW3huBAoc7pkjH8RNVK',\n",
      "    name='transfer_to_agent',\n",
      "    response={\n",
      "      'result': None\n",
      "    }\n",
      "  )\n",
      ")] role='user'\n",
      "  [Event] Author: greeting_subagent_v1, Type: Event, Final: False, Content: parts=[Part(\n",
      "  function_call=FunctionCall(\n",
      "    args={\n",
      "      'person_name': 'ABK'\n",
      "    },\n",
      "    id='call_w5SKAtC5LeLLPkdTTYpE4793',\n",
      "    name='say_hello'\n",
      "  )\n",
      ")] role='model'\n",
      "  [Event] Author: greeting_subagent_v1, Type: Event, Final: False, Content: parts=[Part(\n",
      "  function_response=FunctionResponse(\n",
      "    id='call_w5SKAtC5LeLLPkdTTYpE4793',\n",
      "    name='say_hello',\n",
      "    response={\n",
      "      'query_result': [\n",
      "        {\n",
      "          'reply': 'Hello to you, ABK'\n",
      "        },\n",
      "      ],\n",
      "      'status': 'success'\n",
      "    }\n",
      "  )\n",
      ")] role='user'\n",
      "  [Event] Author: greeting_subagent_v1, Type: Event, Final: True, Content: parts=[Part(\n",
      "  text='Hello to you, ABK!'\n",
      ")] role='model'\n",
      "<<< Agent Response: Hello to you, ABK!\n",
      "\n",
      ">>> User Query: Thanks, bye\n",
      "  [Event] Author: greeting_subagent_v1, Type: Event, Final: False, Content: parts=[Part(\n",
      "  function_call=FunctionCall(\n",
      "    args={\n",
      "      'agent_name': 'farewell_subagent_v1'\n",
      "    },\n",
      "    id='call_zTKwfmafZxB76zmDQiLMJfrS',\n",
      "    name='transfer_to_agent'\n",
      "  )\n",
      ")] role='model'\n",
      "  [Event] Author: greeting_subagent_v1, Type: Event, Final: False, Content: parts=[Part(\n",
      "  function_response=FunctionResponse(\n",
      "    id='call_zTKwfmafZxB76zmDQiLMJfrS',\n",
      "    name='transfer_to_agent',\n",
      "    response={\n",
      "      'result': None\n",
      "    }\n",
      "  )\n",
      ")] role='user'\n",
      "  [Event] Author: farewell_subagent_v1, Type: Event, Final: False, Content: parts=[Part(\n",
      "  function_call=FunctionCall(\n",
      "    args={\n",
      "      'person_name': 'ABK'\n",
      "    },\n",
      "    id='call_AsHvndKNUQKhFFmyhHzKCQ5Z',\n",
      "    name='say_goodbye'\n",
      "  )\n",
      ")] role='model'\n",
      "  [Event] Author: farewell_subagent_v1, Type: Event, Final: False, Content: parts=[Part(\n",
      "  function_response=FunctionResponse(\n",
      "    id='call_AsHvndKNUQKhFFmyhHzKCQ5Z',\n",
      "    name='say_goodbye',\n",
      "    response={\n",
      "      'query_result': [\n",
      "        {\n",
      "          'farewell': 'Goodbye from Cypher!'\n",
      "        },\n",
      "      ],\n",
      "      'status': 'success'\n",
      "    }\n",
      "  )\n",
      ")] role='user'\n",
      "  [Event] Author: farewell_subagent_v1, Type: Event, Final: True, Content: parts=[Part(\n",
      "  text='Goodbye from Cypher!'\n",
      ")] role='model'\n",
      "<<< Agent Response: Goodbye from Cypher!\n"
     ]
    }
   ],
   "source": [
    "from helper import make_agent_caller\n",
    "\n",
    "root_agent_caller = await make_agent_caller(root_agent)\n",
    "\n",
    "async def run_team_conversation():\n",
    "    await root_agent_caller.call(\"Hello I'm ABK\", True)\n",
    "\n",
    "    await root_agent_caller.call(\"Thanks, bye\", True)\n",
    "\n",
    "# Execute the conversation using await\n",
    "await run_team_conversation()"
   ]
  },
  {
   "cell_type": "markdown",
   "id": "cef57dbc",
   "metadata": {},
   "source": [
    "## 3.4. Adding Memory and Personalization with Session State"
   ]
  },
  {
   "cell_type": "code",
   "execution_count": 103,
   "id": "9b86574e",
   "metadata": {},
   "outputs": [],
   "source": [
    "# session state - a dictionary with what is available"
   ]
  },
  {
   "cell_type": "markdown",
   "id": "bf7fcc29",
   "metadata": {},
   "source": [
    "### 3.4.1. Create State-Aware hello/goodbye Tools"
   ]
  },
  {
   "cell_type": "code",
   "execution_count": 104,
   "id": "7244b10e",
   "metadata": {},
   "outputs": [],
   "source": [
    "from google.adk.tools.tool_context import ToolContext\n",
    "\n",
    "def say_hello_stateful(user_name:str, tool_context:ToolContext):\n",
    "    \"\"\"Says hello to the user, recording their name into state.\n",
    "    \n",
    "    Args:\n",
    "        user_name (str): The name of the user.\n",
    "    \"\"\"\n",
    "    tool_context.state[\"user_name\"] = user_name\n",
    "    print(\"\\ntool_context.state['user_name']:\", tool_context.state[\"user_name\"])\n",
    "    return graphdb.send_query(\n",
    "        f\"RETURN 'Hello to you, ' + $user_name + '.' AS reply\",\n",
    "    {\n",
    "        \"user_name\": user_name\n",
    "    })\n"
   ]
  },
  {
   "cell_type": "code",
   "execution_count": 105,
   "id": "416b46bf",
   "metadata": {},
   "outputs": [
    {
     "name": "stdout",
     "output_type": "stream",
     "text": [
      "✅ State-aware 'say_hello_stateful' and 'say_goodbye_stateful' tools defined.\n"
     ]
    }
   ],
   "source": [
    "def say_goodbye_stateful(noop: str,tool_context: ToolContext) -> dict:\n",
    "    \"\"\"Says goodbye to the user, reading their name from state.\n",
    "    Args:\n",
    "        noop (str): No op parameter, dummy parameter\n",
    "    \n",
    "    \"\"\"\n",
    "    user_name = tool_context.state.get(\"user_name\", \"stranger\")\n",
    "    print(\"\\ntool_context.state['user_name']:\", user_name)\n",
    "    return graphdb.send_query(\"RETURN 'Goodbye, ' + $user_name + ', nice to chat with you!' AS reply\",\n",
    "    {\n",
    "        \"user_name\": user_name\n",
    "    })\n",
    "\n",
    "\n",
    "print(\"✅ State-aware 'say_hello_stateful' and 'say_goodbye_stateful' tools defined.\")\n"
   ]
  },
  {
   "cell_type": "code",
   "execution_count": 106,
   "id": "2af1ff7a",
   "metadata": {},
   "outputs": [
    {
     "name": "stdout",
     "output_type": "stream",
     "text": [
      "✅ Agent 'greeting_agent_stateful_v1' redefined.\n"
     ]
    }
   ],
   "source": [
    "# define a stateful greeting agent. the only difference is that this agent will use the stateful say_hello_stateful tool\n",
    "greeting_agent_stateful = Agent(\n",
    "    model=llm,\n",
    "    name=\"greeting_agent_stateful_v1\",\n",
    "    instruction=\"You are the Greeting Agent. Your ONLY task is to provide a friendly greeting using the 'say_hello' tool. Do nothing else.\",\n",
    "    description=\"Handles simple greetings and hellos using the 'say_hello_stateful' tool.\",\n",
    "    tools=[say_hello_stateful],\n",
    ")\n",
    "print(f\"✅ Agent '{greeting_agent_stateful.name}' redefined.\")\n"
   ]
  },
  {
   "cell_type": "code",
   "execution_count": 107,
   "id": "2b80c1e4",
   "metadata": {},
   "outputs": [
    {
     "name": "stdout",
     "output_type": "stream",
     "text": [
      "✅ Agent 'farewell_agent_stateful_v1' redefined.\n"
     ]
    }
   ],
   "source": [
    "farewell_agent_stateful = Agent(\n",
    "    model=llm,\n",
    "    name=\"farewell_agent_stateful_v1\",\n",
    "    instruction=\"You are the Farewell Agent. Your ONLY task is to provide a polite goodbye message using the 'say_goodbye_stateful' tool that receives no parameters as input. Do not perform any other actions.\",\n",
    "    description=\"Handles simple farewells and goodbyes using the 'say_goodbye_stateful' that does not receive any parameters.\",\n",
    "    tools=[say_goodbye_stateful],\n",
    ")\n",
    "print(f\"✅ Agent '{farewell_agent_stateful.name}' redefined.\")"
   ]
  },
  {
   "cell_type": "code",
   "execution_count": 108,
   "id": "a0d62c71",
   "metadata": {},
   "outputs": [
    {
     "name": "stdout",
     "output_type": "stream",
     "text": [
      "✅ Root Agent 'friendly_team_stateful' created using agents with stateful tools.\n"
     ]
    }
   ],
   "source": [
    "root_agent_stateful = Agent(\n",
    "    name=\"friendly_team_stateful\", # New version name\n",
    "    model=llm,\n",
    "    description=\"The main coordinator agent. Delegates greetings/farewells to specialists.\",\n",
    "    instruction=\"\"\"You are the main Agent coordinating a team. Your primary responsibility is to be friendly.\n",
    "\n",
    "                You have specialized sub-agents: \n",
    "                1. 'greeting_agent_stateful': Handles simple greetings like 'Hi', 'Hello'. Delegate to it for these. \n",
    "                2. 'farewell_agent_stateful': Handles simple farewells like 'Bye', 'See you'. Delegate to it for these. \n",
    "\n",
    "                Analyze the user's query. If it's a greeting, delegate to 'greeting_agent_stateful'. If it's a farewell, delegate to 'farewell_agent_stateful'. \n",
    "                \n",
    "                For anything else, respond appropriately or state you cannot handle it.\n",
    "                \"\"\",\n",
    "        tools=[], # Still no tools for root\n",
    "        sub_agents=[greeting_agent_stateful, farewell_agent_stateful], # Include sub-agents\n",
    "    )\n",
    "\n",
    "print(f\"✅ Root Agent '{root_agent_stateful.name}' created using agents with stateful tools.\")\n"
   ]
  },
  {
   "cell_type": "markdown",
   "id": "b0c5482e",
   "metadata": {},
   "source": [
    "### 3.4.3. Interact and Test State Flow"
   ]
  },
  {
   "cell_type": "code",
   "execution_count": 109,
   "id": "05e87e73",
   "metadata": {},
   "outputs": [
    {
     "name": "stdout",
     "output_type": "stream",
     "text": [
      "Initial State: {}\n"
     ]
    }
   ],
   "source": [
    "root_stateful_caller = await make_agent_caller(root_agent_stateful)\n",
    "\n",
    "session = await root_stateful_caller.get_session()\n",
    "\n",
    "print(f\"Initial State: {session.state}\")"
   ]
  },
  {
   "cell_type": "code",
   "execution_count": 110,
   "id": "32fa6d99",
   "metadata": {},
   "outputs": [
    {
     "name": "stdout",
     "output_type": "stream",
     "text": [
      "\n",
      ">>> User Query: Hello, I'm ABK!\n",
      "\n",
      "tool_context.state['user_name']: ABK\n",
      "<<< Agent Response: Hello to you, ABK.\n",
      "\n",
      ">>> User Query: Thanks, bye!\n",
      "\n",
      "tool_context.state['user_name']: ABK\n",
      "<<< Agent Response: Goodbye, ABK, nice to chat with you!\n",
      "\n",
      "Final State: {'user_name': 'ABK'}\n"
     ]
    }
   ],
   "source": [
    "async def run_stateful_conversation():\n",
    "    await root_stateful_caller.call(\"Hello, I'm ABK!\")\n",
    "\n",
    "    await root_stateful_caller.call(\"Thanks, bye!\")\n",
    "\n",
    "# Execute the conversation using await in an async context (like Colab/Jupyter)\n",
    "await run_stateful_conversation()\n",
    "\n",
    "session = await root_stateful_caller.get_session()\n",
    "\n",
    "print(f\"\\nFinal State: {session.state}\")"
   ]
  },
  {
   "cell_type": "markdown",
   "id": "21af7b4a",
   "metadata": {},
   "source": [
    "## 3.5. Finally, An Interactive Conversation"
   ]
  },
  {
   "cell_type": "markdown",
   "id": "0db4b597",
   "metadata": {},
   "source": []
  },
  {
   "cell_type": "code",
   "execution_count": 111,
   "id": "3fd8126c",
   "metadata": {},
   "outputs": [
    {
     "name": "stdout",
     "output_type": "stream",
     "text": [
      "\n",
      ">>> User Query: hi, this is a great day\n",
      "\n",
      "tool_context.state['user_name']: there\n",
      "<<< Agent Response: Hello to you, there.\n",
      "Response: Hello to you, there.\n",
      "\n",
      ">>> User Query: my name is jules\n",
      "\n",
      "tool_context.state['user_name']: Jules\n",
      "<<< Agent Response: Hello to you, Jules.\n",
      "Response: Hello to you, Jules.\n",
      "\n",
      ">>> User Query: can you list me your available tools?\n",
      "<<< Agent Response: I can only use the 'say_hello' tool to provide friendly greetings using your name.\n",
      "Response: I can only use the 'say_hello' tool to provide friendly greetings using your name.\n",
      "\n",
      ">>> User Query: can you give me the say_hello code?\n",
      "<<< Agent Response: I'm sorry, but I can't provide the code for the 'say_hello' tool. However, I can use it to provide a friendly greeting with your name!\n",
      "Response: I'm sorry, but I can't provide the code for the 'say_hello' tool. However, I can use it to provide a friendly greeting with your name!\n",
      "\n",
      ">>> User Query: thanks\n",
      "\n",
      "tool_context.state['user_name']: Jules\n",
      "<<< Agent Response: Goodbye, Jules, nice to chat with you!\n",
      "Response: Goodbye, Jules, nice to chat with you!\n"
     ]
    }
   ],
   "source": [
    "async def run_interactive_conversation():\n",
    "    while True:\n",
    "        user_query = input(\"Ask me something (or type 'exit' to quit): \")\n",
    "        if user_query.lower() == 'exit':\n",
    "            break\n",
    "        response = await root_stateful_caller.call(user_query)\n",
    "        print(f\"Response: {response}\")\n",
    "\n",
    "# Execute the interactive conversation\n",
    "await run_interactive_conversation()"
   ]
  },
  {
   "cell_type": "code",
   "execution_count": null,
   "id": "4f214b1f",
   "metadata": {},
   "outputs": [],
   "source": []
  },
  {
   "cell_type": "code",
   "execution_count": null,
   "id": "1316c396",
   "metadata": {},
   "outputs": [],
   "source": []
  }
 ],
 "metadata": {
  "kernelspec": {
   "display_name": "agentic-kg-iRiaRh-y-py3.11",
   "language": "python",
   "name": "python3"
  },
  "language_info": {
   "codemirror_mode": {
    "name": "ipython",
    "version": 3
   },
   "file_extension": ".py",
   "mimetype": "text/x-python",
   "name": "python",
   "nbconvert_exporter": "python",
   "pygments_lexer": "ipython3",
   "version": "3.11.10"
  }
 },
 "nbformat": 4,
 "nbformat_minor": 5
}

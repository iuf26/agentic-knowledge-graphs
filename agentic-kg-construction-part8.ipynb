{
 "cells": [
  {
   "cell_type": "code",
   "execution_count": 2,
   "id": "523d72e4",
   "metadata": {},
   "outputs": [
    {
     "name": "stdout",
     "output_type": "stream",
     "text": [
      "Libraries imported.\n"
     ]
    }
   ],
   "source": [
    "# Import necessary libraries\n",
    "\n",
    "from google.adk.models.lite_llm import LiteLlm # For OpenAI support\n",
    "\n",
    "# Convenience libraries for working with Neo4j inside of Google ADK\n",
    "from neo4j_for_adk import graphdb, tool_success, tool_error\n",
    "\n",
    "from typing import Dict, Any\n",
    "\n",
    "import warnings\n",
    "# Ignore all warnings\n",
    "warnings.filterwarnings(\"ignore\")\n",
    "\n",
    "import logging\n",
    "logging.basicConfig(level=logging.CRITICAL)\n",
    "\n",
    "print(\"Libraries imported.\")"
   ]
  },
  {
   "cell_type": "code",
   "execution_count": 3,
   "id": "6cc71626",
   "metadata": {},
   "outputs": [
    {
     "name": "stdout",
     "output_type": "stream",
     "text": [
      "ModelResponse(id='chatcmpl-CDa0PcIyqWexEwnk7qsMm3suUaNvy', created=1757352705, model='gpt-4o-2024-08-06', object='chat.completion', system_fingerprint='fp_1827dd0c55', choices=[Choices(finish_reason='stop', index=0, message=Message(content=\"Yes, I'm ready. How can I assist you today?\", role='assistant', tool_calls=None, function_call=None, provider_specific_fields={'refusal': None}, annotations=[]), provider_specific_fields={})], usage=Usage(completion_tokens=13, prompt_tokens=27, total_tokens=40, completion_tokens_details=CompletionTokensDetailsWrapper(accepted_prediction_tokens=0, audio_tokens=0, reasoning_tokens=0, rejected_prediction_tokens=0, text_tokens=None), prompt_tokens_details=PromptTokensDetailsWrapper(audio_tokens=0, cached_tokens=0, text_tokens=None, image_tokens=None)), service_tier='default')\n",
      "\n",
      "OpenAI ready.\n",
      "{'status': 'success', 'query_result': [{'message': 'Neo4j is Ready!'}]}\n"
     ]
    }
   ],
   "source": [
    "# --- Define Model Constants for easier use ---\n",
    "MODEL_GPT_4O = \"openai/gpt-4o\"\n",
    "\n",
    "llm = LiteLlm(model=MODEL_GPT_4O)\n",
    "\n",
    "# Test LLM with a direct call\n",
    "print(llm.llm_client.completion(model=llm.model, messages=[{\"role\": \"user\", \"content\": \"Are you ready?\"}], tools=[]))\n",
    "\n",
    "print(\"\\nOpenAI ready.\")\n",
    "# Check connection to Neo4j by sending a query\n",
    "\n",
    "neo4j_is_ready = graphdb.send_query(\"RETURN 'Neo4j is Ready!' as message\")\n",
    "\n",
    "print(neo4j_is_ready)\n"
   ]
  },
  {
   "cell_type": "markdown",
   "id": "2dd3767e",
   "metadata": {},
   "source": [
    "### 8.3. Tool Definitions (Domain Graph Construction)"
   ]
  },
  {
   "cell_type": "markdown",
   "id": "ce01a75d",
   "metadata": {},
   "source": [
    "### Function: create_uniqueness_constraint\n",
    "This function creates a uniqueness constraint in Neo4j to prevent duplicate nodes with the same label and property value from being created."
   ]
  },
  {
   "cell_type": "code",
   "execution_count": 10,
   "id": "9b0918eb",
   "metadata": {},
   "outputs": [],
   "source": [
    "def create_uniqueness_constraint(\n",
    "    label: str,\n",
    "    unique_property_key: str,\n",
    ") -> Dict[str, Any]:\n",
    "    \"\"\"Creates a uniqueness constraint for a node label and property key.\n",
    "    A uniqueness constraint ensures that no two nodes with the same label and property key have the same value.\n",
    "    This improves the performance and integrity of data import and later queries.\n",
    "\n",
    "    Args:\n",
    "        label: The label of the node to create a constraint for.\n",
    "        unique_property_key: The property key that should have a unique value.\n",
    "\n",
    "    Returns:\n",
    "        A dictionary with a status key ('success' or 'error').\n",
    "        On error, includes an 'error_message' key.\n",
    "    \"\"\"    \n",
    "    # Use string formatting since Neo4j doesn't support parameterization of labels and property keys when creating a constraint\n",
    "    constraint_name = f\"{label}_{unique_property_key}_constraint\"\n",
    "    query = f\"\"\"CREATE CONSTRAINT `{constraint_name}` IF NOT EXISTS\n",
    "    FOR (n:`{label}`)\n",
    "    REQUIRE n.`{unique_property_key}` IS UNIQUE\"\"\"\n",
    "    results = graphdb.send_query(query)\n",
    "    return results\n"
   ]
  },
  {
   "cell_type": "markdown",
   "id": "ff96cfd1",
   "metadata": {},
   "source": [
    "### Function: load_nodes_from_csv\n",
    "\n",
    "The csv files are stored in the /import directory of neo4j database. When you use the query LOAD CSV from \"file:///\" + $source_file, neo4j checks the /import directory by default."
   ]
  },
  {
   "cell_type": "code",
   "execution_count": 11,
   "id": "d4cde51e",
   "metadata": {},
   "outputs": [],
   "source": [
    "def load_nodes_from_csv(\n",
    "    source_file: str,\n",
    "    label: str,\n",
    "    unique_column_name: str,\n",
    "    properties: list[str],\n",
    ") -> Dict[str, Any]:\n",
    "    \"\"\"Batch loading of nodes from a CSV file\"\"\"\n",
    "\n",
    "    # load nodes from CSV file by merging on the unique_column_name value\n",
    "    query = f\"\"\"LOAD CSV WITH HEADERS FROM \"file:///\" + $source_file AS row\n",
    "    CALL (row) {{\n",
    "        MERGE (n:$($label) {{ {unique_column_name} : row[$unique_column_name] }})\n",
    "        FOREACH (k IN $properties | SET n[k] = row[k])\n",
    "    }} IN TRANSACTIONS OF 1000 ROWS\n",
    "    \"\"\"\n",
    "\n",
    "    results = graphdb.send_query(query, {\n",
    "        \"source_file\": source_file,\n",
    "        \"label\": label,\n",
    "        \"unique_column_name\": unique_column_name,\n",
    "        \"properties\": properties\n",
    "    })\n",
    "    return results"
   ]
  },
  {
   "cell_type": "code",
   "execution_count": null,
   "id": "5b357b6e",
   "metadata": {},
   "outputs": [],
   "source": []
  },
  {
   "cell_type": "markdown",
   "id": "60a6b42f",
   "metadata": {},
   "source": []
  },
  {
   "cell_type": "markdown",
   "id": "f239f90e",
   "metadata": {},
   "source": [
    "### Function: import_nodes\n",
    "This function orchestrates the node import process by first creating a uniqueness constraint and then loading nodes from the CSV file. It ensures data integrity by establishing constraints before importing data."
   ]
  },
  {
   "cell_type": "code",
   "execution_count": 12,
   "id": "e57244bf",
   "metadata": {},
   "outputs": [],
   "source": [
    "def import_nodes(node_construction: dict) -> dict:\n",
    "    \"\"\"Import nodes as defined by a node construction rule.\"\"\"\n",
    "\n",
    "    # create a uniqueness constraint for the unique_column\n",
    "    uniqueness_result = create_uniqueness_constraint(\n",
    "        node_construction[\"label\"],\n",
    "        node_construction[\"unique_column_name\"]\n",
    "    )\n",
    "\n",
    "    if (uniqueness_result[\"status\"] == \"error\"):\n",
    "        return uniqueness_result\n",
    "\n",
    "    # import nodes from csv\n",
    "    load_nodes_result = load_nodes_from_csv(\n",
    "        node_construction[\"source_file\"],\n",
    "        node_construction[\"label\"],\n",
    "        node_construction[\"unique_column_name\"],\n",
    "        node_construction[\"properties\"]\n",
    "    )\n",
    "\n",
    "    return load_nodes_result"
   ]
  },
  {
   "cell_type": "markdown",
   "id": "788ab9d3",
   "metadata": {},
   "source": [
    "### Function: import_relationships\n",
    "This function imports relationships between nodes from a CSV file. It uses a Cypher query that matches existing nodes and creates relationships between them. The query finds pairs of nodes and creates relationships with specified properties between them."
   ]
  },
  {
   "cell_type": "code",
   "execution_count": 13,
   "id": "2feb9af2",
   "metadata": {},
   "outputs": [],
   "source": [
    "def import_relationships(relationship_construction: dict) -> Dict[str, Any]:\n",
    "    \"\"\"Import relationships as defined by a relationship construction rule.\"\"\"\n",
    "\n",
    "    # load nodes from CSV file by merging on the unique_column_name value \n",
    "    from_node_column = relationship_construction[\"from_node_column\"]\n",
    "    to_node_column = relationship_construction[\"to_node_column\"]\n",
    "    query = f\"\"\"LOAD CSV WITH HEADERS FROM \"file:///\" + $source_file AS row\n",
    "    CALL (row) {{\n",
    "        MATCH (from_node:$($from_node_label) {{ {from_node_column} : row[$from_node_column] }}),\n",
    "              (to_node:$($to_node_label) {{ {to_node_column} : row[$to_node_column] }} )\n",
    "        MERGE (from_node)-[r:$($relationship_type)]->(to_node)\n",
    "        FOREACH (k IN $properties | SET r[k] = row[k])\n",
    "    }} IN TRANSACTIONS OF 1000 ROWS\n",
    "    \"\"\"\n",
    "    \n",
    "    results = graphdb.send_query(query, {\n",
    "        \"source_file\": relationship_construction[\"source_file\"],\n",
    "        \"from_node_label\": relationship_construction[\"from_node_label\"],\n",
    "        \"from_node_column\": relationship_construction[\"from_node_column\"],\n",
    "        \"to_node_label\": relationship_construction[\"to_node_label\"],\n",
    "        \"to_node_column\": relationship_construction[\"to_node_column\"],\n",
    "        \"relationship_type\": relationship_construction[\"relationship_type\"],\n",
    "        \"properties\": relationship_construction[\"properties\"]\n",
    "    })\n",
    "    return results"
   ]
  },
  {
   "cell_type": "code",
   "execution_count": 14,
   "id": "7ba211e3",
   "metadata": {},
   "outputs": [],
   "source": [
    "def construct_domain_graph(construction_plan: dict) -> Dict[str, Any]:\n",
    "    \"Construct a domain graph according to a construction plan.\"\n",
    "    #import nodes\n",
    "    node_construction = [value for value in construction_plan.values() if value['construction_type'] == 'node']\n",
    "    for node_construction in node_construction:\n",
    "        import_nodes(node_construction)\n",
    "    \n",
    "    #import relationships\n",
    "    relationship_constructions = [value for value in construction_plan.values() if value['construction_type'] == 'relationship']\n",
    "    for relationship_construction in relationship_constructions:\n",
    "        import_relationships(relationship_construction)"
   ]
  },
  {
   "cell_type": "code",
   "execution_count": 6,
   "id": "7264fe16",
   "metadata": {},
   "outputs": [],
   "source": [
    "# the approved construction plan should look something like this...\n",
    "approved_construction_plan = {\n",
    "    \"Assembly\": {\n",
    "        \"construction_type\": \"node\", \n",
    "        \"source_file\": \"assemblies.csv\", \n",
    "        \"label\": \"Assembly\", \n",
    "        \"unique_column_name\": \"assembly_id\", \n",
    "        \"properties\": [\"assembly_name\", \"quantity\", \"product_id\"]\n",
    "    }, \n",
    "    \"Part\": {\n",
    "        \"construction_type\": \"node\", \n",
    "        \"source_file\": \"parts.csv\", \n",
    "        \"label\": \"Part\", \n",
    "        \"unique_column_name\": \"part_id\", \n",
    "        \"properties\": [\"part_name\", \"quantity\", \"assembly_id\"]\n",
    "    }, \n",
    "    \"Product\": {\n",
    "        \"construction_type\": \"node\", \n",
    "        \"source_file\": \"products.csv\", \n",
    "        \"label\": \"Product\", \n",
    "        \"unique_column_name\": \"product_id\", \n",
    "        \"properties\": [\"product_name\", \"price\", \"description\"]\n",
    "    }, \n",
    "    \"Supplier\": {\n",
    "        \"construction_type\": \"node\", \n",
    "        \"source_file\": \"suppliers.csv\", \n",
    "        \"label\": \"Supplier\", \n",
    "        \"unique_column_name\": \"supplier_id\", \n",
    "        \"properties\": [\"name\", \"specialty\", \"city\", \"country\", \"website\", \"contact_email\"]\n",
    "    }, \n",
    "    \"Contains\": {\n",
    "        \"construction_type\": \"relationship\", \n",
    "        \"source_file\": \"assemblies.csv\", \n",
    "        \"relationship_type\": \"Contains\", \n",
    "        \"from_node_label\": \"Product\", \n",
    "        \"from_node_column\": \"product_id\", \n",
    "        \"to_node_label\": \"Assembly\", \n",
    "        \"to_node_column\": \"assembly_id\", \n",
    "        \"properties\": [\"quantity\"]\n",
    "    }, \n",
    "    \"Is_Part_Of\": {\n",
    "        \"construction_type\": \"relationship\", \n",
    "        \"source_file\": \"parts.csv\", \n",
    "        \"relationship_type\": \"Is_Part_Of\", \n",
    "        \"from_node_label\": \"Part\", \n",
    "        \"from_node_column\": \"part_id\", \n",
    "        \"to_node_label\": \"Assembly\", \n",
    "        \"to_node_column\": \"assembly_id\", \n",
    "        \"properties\": [\"quantity\"]\n",
    "    }, \n",
    "    \"Supplied_By\": {\n",
    "        \"construction_type\": \"relationship\", \n",
    "        \"source_file\": \"part_supplier_mapping.csv\", \n",
    "        \"relationship_type\": \"Supplied_By\", \n",
    "        \"from_node_label\": \"Part\", \n",
    "        \"from_node_column\": \"part_id\", \n",
    "        \"to_node_label\": \"Supplier\", \n",
    "        \"to_node_column\": \"supplier_id\", \n",
    "        \"properties\": [\"supplier_name\", \"lead_time_days\", \"unit_cost\", \"minimum_order_quantity\", \"preferred_supplier\"]\n",
    "    }\n",
    "}\n"
   ]
  },
  {
   "cell_type": "code",
   "execution_count": 16,
   "id": "2a0dea07",
   "metadata": {},
   "outputs": [],
   "source": [
    "construct_domain_graph(approved_construction_plan)"
   ]
  },
  {
   "cell_type": "markdown",
   "id": "3af9130e",
   "metadata": {},
   "source": [
    "## 8.5 Inspect the Domain Graph"
   ]
  },
  {
   "cell_type": "code",
   "execution_count": 7,
   "id": "bb847681",
   "metadata": {},
   "outputs": [
    {
     "data": {
      "text/plain": [
       "[{'construction_type': 'relationship',\n",
       "  'source_file': 'assemblies.csv',\n",
       "  'relationship_type': 'Contains',\n",
       "  'from_node_label': 'Product',\n",
       "  'from_node_column': 'product_id',\n",
       "  'to_node_label': 'Assembly',\n",
       "  'to_node_column': 'assembly_id',\n",
       "  'properties': ['quantity']},\n",
       " {'construction_type': 'relationship',\n",
       "  'source_file': 'parts.csv',\n",
       "  'relationship_type': 'Is_Part_Of',\n",
       "  'from_node_label': 'Part',\n",
       "  'from_node_column': 'part_id',\n",
       "  'to_node_label': 'Assembly',\n",
       "  'to_node_column': 'assembly_id',\n",
       "  'properties': ['quantity']},\n",
       " {'construction_type': 'relationship',\n",
       "  'source_file': 'part_supplier_mapping.csv',\n",
       "  'relationship_type': 'Supplied_By',\n",
       "  'from_node_label': 'Part',\n",
       "  'from_node_column': 'part_id',\n",
       "  'to_node_label': 'Supplier',\n",
       "  'to_node_column': 'supplier_id',\n",
       "  'properties': ['supplier_name',\n",
       "   'lead_time_days',\n",
       "   'unit_cost',\n",
       "   'minimum_order_quantity',\n",
       "   'preferred_supplier']}]"
      ]
     },
     "execution_count": 7,
     "metadata": {},
     "output_type": "execute_result"
    }
   ],
   "source": [
    "# extract a list of the relationship construction rules\n",
    "relationship_constructions = [\n",
    "    value for value in approved_construction_plan.values()\n",
    "    if value.get(\"construction_type\") == \"relationship\"\n",
    "]\n",
    "relationship_constructions"
   ]
  },
  {
   "cell_type": "code",
   "execution_count": 8,
   "id": "503bb3e8",
   "metadata": {},
   "outputs": [],
   "source": [
    "## View graph in neo4j MATCH (n)-[r]->(m) RETURN n,r,m LIMIT 50;"
   ]
  },
  {
   "cell_type": "markdown",
   "id": "57fe2116",
   "metadata": {},
   "source": [
    "This cell creates and executes a Cypher query to verify that all relationship types from the construction plan were successfully created in the graph. \n",
    "\n",
    "The query uses several advanced Cypher features:\n",
    "- `UNWIND`: Iterates through each relationship construction rule\n",
    "- `CALL (construction) { ... }`: Subquery that executes for each construction rule\n",
    "- `MATCH (from)-[r:relationship_type]->(to)`: Finds one example of each relationship type\n",
    "- `LIMIT 1`: Returns only one example per relationship type\n",
    "\n",
    "This provides a summary view showing one instance of each relationship pattern in the constructed graph."
   ]
  },
  {
   "cell_type": "code",
   "execution_count": null,
   "id": "c6937f07",
   "metadata": {},
   "outputs": [],
   "source": [
    "# a fancy cypher query which to show one instance of each construction rule\n",
    "\n",
    "# turn the list of rules into multiple single rules\n",
    "unwind_list = \"UNWIND $relationship_constructions AS construction\"\n",
    "\n",
    "# match a single path for a given construction.relationship_type\n",
    "# return only the labels and types from the 3 parts of the path\n",
    "match_one_path = \"\"\"\n",
    "    MATCH (from)-[r:$(construction.relationship_type)]->(to)\n",
    "    RETURN labels(from) AS fromNode, type(r) AS relationship, labels(to) AS toNode\n",
    "    LIMIT 1\n",
    "\"\"\"\n",
    "match_in_subquery = f\"\"\"\n",
    "CALL (construction) {{\n",
    "{match_one_path}\n",
    "}}\n",
    "\"\"\"\n",
    "\n",
    "cypher = f\"\"\"\n",
    "{unwind_list}\n",
    "{match_in_subquery}\n",
    "RETURN fromNode, relationship, toNode\n",
    "\"\"\"\n",
    "\n",
    "print(cypher)\n",
    "\n",
    "print(\"\\n---\")\n",
    "\n",
    "graphdb.send_query(cypher, {\n",
    "    \"relationship_constructions\": relationship_constructions\n",
    "})"
   ]
  }
 ],
 "metadata": {
  "kernelspec": {
   "display_name": "agentic-kg-iRiaRh-y-py3.11",
   "language": "python",
   "name": "python3"
  },
  "language_info": {
   "codemirror_mode": {
    "name": "ipython",
    "version": 3
   },
   "file_extension": ".py",
   "mimetype": "text/x-python",
   "name": "python",
   "nbconvert_exporter": "python",
   "pygments_lexer": "ipython3",
   "version": "3.11.10"
  }
 },
 "nbformat": 4,
 "nbformat_minor": 5
}
